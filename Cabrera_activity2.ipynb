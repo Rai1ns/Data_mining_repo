{
 "cells": [
  {
   "cell_type": "code",
   "execution_count": 1,
   "id": "37a4892d-16b1-4361-a503-9c349edd0a84",
   "metadata": {},
   "outputs": [],
   "source": [
    "import numpy as np\n",
    "import pandas as pd\n",
    "import matplotlib.pyplot as plt\n",
    "import seaborn as sns"
   ]
  },
  {
   "cell_type": "markdown",
   "id": "4b8aa50a-66af-4088-915b-7f0c6c3d7ddd",
   "metadata": {},
   "source": [
    "<h1> IMPORTING PENGUIN DATA SET USING PANDAS</h1>"
   ]
  },
  {
   "cell_type": "code",
   "execution_count": 2,
   "id": "ffa3ee28-c54f-449b-b94f-cdd66b15b205",
   "metadata": {},
   "outputs": [],
   "source": [
    "penguins = pd.read_csv('dataset\\\\penguins.csv')"
   ]
  },
  {
   "cell_type": "code",
   "execution_count": 3,
   "id": "d49d02b4-8198-4653-b067-8e03125107dc",
   "metadata": {},
   "outputs": [
    {
     "data": {
      "text/html": [
       "<div>\n",
       "<style scoped>\n",
       "    .dataframe tbody tr th:only-of-type {\n",
       "        vertical-align: middle;\n",
       "    }\n",
       "\n",
       "    .dataframe tbody tr th {\n",
       "        vertical-align: top;\n",
       "    }\n",
       "\n",
       "    .dataframe thead th {\n",
       "        text-align: right;\n",
       "    }\n",
       "</style>\n",
       "<table border=\"1\" class=\"dataframe\">\n",
       "  <thead>\n",
       "    <tr style=\"text-align: right;\">\n",
       "      <th></th>\n",
       "      <th>species</th>\n",
       "      <th>island</th>\n",
       "      <th>bill_length_mm</th>\n",
       "      <th>bill_depth_mm</th>\n",
       "      <th>flipper_length_mm</th>\n",
       "      <th>body_mass_g</th>\n",
       "      <th>sex</th>\n",
       "      <th>year</th>\n",
       "    </tr>\n",
       "  </thead>\n",
       "  <tbody>\n",
       "    <tr>\n",
       "      <th>0</th>\n",
       "      <td>Adelie</td>\n",
       "      <td>Torgersen</td>\n",
       "      <td>39.1</td>\n",
       "      <td>18.7</td>\n",
       "      <td>181.0</td>\n",
       "      <td>3750.0</td>\n",
       "      <td>male</td>\n",
       "      <td>2007</td>\n",
       "    </tr>\n",
       "    <tr>\n",
       "      <th>1</th>\n",
       "      <td>Adelie</td>\n",
       "      <td>Torgersen</td>\n",
       "      <td>39.5</td>\n",
       "      <td>17.4</td>\n",
       "      <td>186.0</td>\n",
       "      <td>3800.0</td>\n",
       "      <td>female</td>\n",
       "      <td>2007</td>\n",
       "    </tr>\n",
       "    <tr>\n",
       "      <th>2</th>\n",
       "      <td>Adelie</td>\n",
       "      <td>Torgersen</td>\n",
       "      <td>40.3</td>\n",
       "      <td>18.0</td>\n",
       "      <td>195.0</td>\n",
       "      <td>3250.0</td>\n",
       "      <td>female</td>\n",
       "      <td>2007</td>\n",
       "    </tr>\n",
       "    <tr>\n",
       "      <th>3</th>\n",
       "      <td>Adelie</td>\n",
       "      <td>Torgersen</td>\n",
       "      <td>NaN</td>\n",
       "      <td>NaN</td>\n",
       "      <td>NaN</td>\n",
       "      <td>NaN</td>\n",
       "      <td>NaN</td>\n",
       "      <td>2007</td>\n",
       "    </tr>\n",
       "    <tr>\n",
       "      <th>4</th>\n",
       "      <td>Adelie</td>\n",
       "      <td>Torgersen</td>\n",
       "      <td>36.7</td>\n",
       "      <td>19.3</td>\n",
       "      <td>193.0</td>\n",
       "      <td>3450.0</td>\n",
       "      <td>female</td>\n",
       "      <td>2007</td>\n",
       "    </tr>\n",
       "    <tr>\n",
       "      <th>...</th>\n",
       "      <td>...</td>\n",
       "      <td>...</td>\n",
       "      <td>...</td>\n",
       "      <td>...</td>\n",
       "      <td>...</td>\n",
       "      <td>...</td>\n",
       "      <td>...</td>\n",
       "      <td>...</td>\n",
       "    </tr>\n",
       "    <tr>\n",
       "      <th>339</th>\n",
       "      <td>Chinstrap</td>\n",
       "      <td>Dream</td>\n",
       "      <td>55.8</td>\n",
       "      <td>19.8</td>\n",
       "      <td>207.0</td>\n",
       "      <td>4000.0</td>\n",
       "      <td>male</td>\n",
       "      <td>2009</td>\n",
       "    </tr>\n",
       "    <tr>\n",
       "      <th>340</th>\n",
       "      <td>Chinstrap</td>\n",
       "      <td>Dream</td>\n",
       "      <td>43.5</td>\n",
       "      <td>18.1</td>\n",
       "      <td>202.0</td>\n",
       "      <td>3400.0</td>\n",
       "      <td>female</td>\n",
       "      <td>2009</td>\n",
       "    </tr>\n",
       "    <tr>\n",
       "      <th>341</th>\n",
       "      <td>Chinstrap</td>\n",
       "      <td>Dream</td>\n",
       "      <td>49.6</td>\n",
       "      <td>18.2</td>\n",
       "      <td>193.0</td>\n",
       "      <td>3775.0</td>\n",
       "      <td>male</td>\n",
       "      <td>2009</td>\n",
       "    </tr>\n",
       "    <tr>\n",
       "      <th>342</th>\n",
       "      <td>Chinstrap</td>\n",
       "      <td>Dream</td>\n",
       "      <td>50.8</td>\n",
       "      <td>19.0</td>\n",
       "      <td>210.0</td>\n",
       "      <td>4100.0</td>\n",
       "      <td>male</td>\n",
       "      <td>2009</td>\n",
       "    </tr>\n",
       "    <tr>\n",
       "      <th>343</th>\n",
       "      <td>Chinstrap</td>\n",
       "      <td>Dream</td>\n",
       "      <td>50.2</td>\n",
       "      <td>18.7</td>\n",
       "      <td>198.0</td>\n",
       "      <td>3775.0</td>\n",
       "      <td>female</td>\n",
       "      <td>2009</td>\n",
       "    </tr>\n",
       "  </tbody>\n",
       "</table>\n",
       "<p>344 rows × 8 columns</p>\n",
       "</div>"
      ],
      "text/plain": [
       "       species     island  bill_length_mm  bill_depth_mm  flipper_length_mm  \\\n",
       "0       Adelie  Torgersen            39.1           18.7              181.0   \n",
       "1       Adelie  Torgersen            39.5           17.4              186.0   \n",
       "2       Adelie  Torgersen            40.3           18.0              195.0   \n",
       "3       Adelie  Torgersen             NaN            NaN                NaN   \n",
       "4       Adelie  Torgersen            36.7           19.3              193.0   \n",
       "..         ...        ...             ...            ...                ...   \n",
       "339  Chinstrap      Dream            55.8           19.8              207.0   \n",
       "340  Chinstrap      Dream            43.5           18.1              202.0   \n",
       "341  Chinstrap      Dream            49.6           18.2              193.0   \n",
       "342  Chinstrap      Dream            50.8           19.0              210.0   \n",
       "343  Chinstrap      Dream            50.2           18.7              198.0   \n",
       "\n",
       "     body_mass_g     sex  year  \n",
       "0         3750.0    male  2007  \n",
       "1         3800.0  female  2007  \n",
       "2         3250.0  female  2007  \n",
       "3            NaN     NaN  2007  \n",
       "4         3450.0  female  2007  \n",
       "..           ...     ...   ...  \n",
       "339       4000.0    male  2009  \n",
       "340       3400.0  female  2009  \n",
       "341       3775.0    male  2009  \n",
       "342       4100.0    male  2009  \n",
       "343       3775.0  female  2009  \n",
       "\n",
       "[344 rows x 8 columns]"
      ]
     },
     "execution_count": 3,
     "metadata": {},
     "output_type": "execute_result"
    }
   ],
   "source": [
    "penguins"
   ]
  },
  {
   "cell_type": "markdown",
   "id": "35b54136-7344-44b7-9521-b9fd240b0a6a",
   "metadata": {},
   "source": [
    "<h1>BASIC CHECKING AND DESCRIPTIVE ANALYTICS"
   ]
  },
  {
   "cell_type": "code",
   "execution_count": 4,
   "id": "211b3c92-b3e6-4228-a780-d35b8b7c70fd",
   "metadata": {},
   "outputs": [
    {
     "name": "stdout",
     "output_type": "stream",
     "text": [
      "<class 'pandas.core.frame.DataFrame'>\n",
      "RangeIndex: 344 entries, 0 to 343\n",
      "Data columns (total 8 columns):\n",
      " #   Column             Non-Null Count  Dtype  \n",
      "---  ------             --------------  -----  \n",
      " 0   species            344 non-null    object \n",
      " 1   island             344 non-null    object \n",
      " 2   bill_length_mm     342 non-null    float64\n",
      " 3   bill_depth_mm      342 non-null    float64\n",
      " 4   flipper_length_mm  342 non-null    float64\n",
      " 5   body_mass_g        342 non-null    float64\n",
      " 6   sex                333 non-null    object \n",
      " 7   year               344 non-null    int64  \n",
      "dtypes: float64(4), int64(1), object(3)\n",
      "memory usage: 21.6+ KB\n"
     ]
    }
   ],
   "source": [
    "penguins.info()"
   ]
  },
  {
   "cell_type": "code",
   "execution_count": 5,
   "id": "b372734b-7f2e-4a99-b721-fda3efb6abcb",
   "metadata": {},
   "outputs": [
    {
     "data": {
      "text/html": [
       "<div>\n",
       "<style scoped>\n",
       "    .dataframe tbody tr th:only-of-type {\n",
       "        vertical-align: middle;\n",
       "    }\n",
       "\n",
       "    .dataframe tbody tr th {\n",
       "        vertical-align: top;\n",
       "    }\n",
       "\n",
       "    .dataframe thead th {\n",
       "        text-align: right;\n",
       "    }\n",
       "</style>\n",
       "<table border=\"1\" class=\"dataframe\">\n",
       "  <thead>\n",
       "    <tr style=\"text-align: right;\">\n",
       "      <th></th>\n",
       "      <th>bill_length_mm</th>\n",
       "      <th>bill_depth_mm</th>\n",
       "      <th>flipper_length_mm</th>\n",
       "      <th>body_mass_g</th>\n",
       "      <th>year</th>\n",
       "    </tr>\n",
       "  </thead>\n",
       "  <tbody>\n",
       "    <tr>\n",
       "      <th>count</th>\n",
       "      <td>342.000000</td>\n",
       "      <td>342.000000</td>\n",
       "      <td>342.000000</td>\n",
       "      <td>342.000000</td>\n",
       "      <td>344.000000</td>\n",
       "    </tr>\n",
       "    <tr>\n",
       "      <th>mean</th>\n",
       "      <td>43.921930</td>\n",
       "      <td>17.151170</td>\n",
       "      <td>200.915205</td>\n",
       "      <td>4201.754386</td>\n",
       "      <td>2008.029070</td>\n",
       "    </tr>\n",
       "    <tr>\n",
       "      <th>std</th>\n",
       "      <td>5.459584</td>\n",
       "      <td>1.974793</td>\n",
       "      <td>14.061714</td>\n",
       "      <td>801.954536</td>\n",
       "      <td>0.818356</td>\n",
       "    </tr>\n",
       "    <tr>\n",
       "      <th>min</th>\n",
       "      <td>32.100000</td>\n",
       "      <td>13.100000</td>\n",
       "      <td>172.000000</td>\n",
       "      <td>2700.000000</td>\n",
       "      <td>2007.000000</td>\n",
       "    </tr>\n",
       "    <tr>\n",
       "      <th>25%</th>\n",
       "      <td>39.225000</td>\n",
       "      <td>15.600000</td>\n",
       "      <td>190.000000</td>\n",
       "      <td>3550.000000</td>\n",
       "      <td>2007.000000</td>\n",
       "    </tr>\n",
       "    <tr>\n",
       "      <th>50%</th>\n",
       "      <td>44.450000</td>\n",
       "      <td>17.300000</td>\n",
       "      <td>197.000000</td>\n",
       "      <td>4050.000000</td>\n",
       "      <td>2008.000000</td>\n",
       "    </tr>\n",
       "    <tr>\n",
       "      <th>75%</th>\n",
       "      <td>48.500000</td>\n",
       "      <td>18.700000</td>\n",
       "      <td>213.000000</td>\n",
       "      <td>4750.000000</td>\n",
       "      <td>2009.000000</td>\n",
       "    </tr>\n",
       "    <tr>\n",
       "      <th>max</th>\n",
       "      <td>59.600000</td>\n",
       "      <td>21.500000</td>\n",
       "      <td>231.000000</td>\n",
       "      <td>6300.000000</td>\n",
       "      <td>2009.000000</td>\n",
       "    </tr>\n",
       "  </tbody>\n",
       "</table>\n",
       "</div>"
      ],
      "text/plain": [
       "       bill_length_mm  bill_depth_mm  flipper_length_mm  body_mass_g  \\\n",
       "count      342.000000     342.000000         342.000000   342.000000   \n",
       "mean        43.921930      17.151170         200.915205  4201.754386   \n",
       "std          5.459584       1.974793          14.061714   801.954536   \n",
       "min         32.100000      13.100000         172.000000  2700.000000   \n",
       "25%         39.225000      15.600000         190.000000  3550.000000   \n",
       "50%         44.450000      17.300000         197.000000  4050.000000   \n",
       "75%         48.500000      18.700000         213.000000  4750.000000   \n",
       "max         59.600000      21.500000         231.000000  6300.000000   \n",
       "\n",
       "              year  \n",
       "count   344.000000  \n",
       "mean   2008.029070  \n",
       "std       0.818356  \n",
       "min    2007.000000  \n",
       "25%    2007.000000  \n",
       "50%    2008.000000  \n",
       "75%    2009.000000  \n",
       "max    2009.000000  "
      ]
     },
     "execution_count": 5,
     "metadata": {},
     "output_type": "execute_result"
    }
   ],
   "source": [
    "penguins.describe()"
   ]
  },
  {
   "cell_type": "markdown",
   "id": "9214be35-4816-4a2d-8802-5e971dfb0128",
   "metadata": {},
   "source": [
    "<h1>CREATING OWN COLUMN"
   ]
  },
  {
   "cell_type": "code",
   "execution_count": 6,
   "id": "778d5b92-6953-4380-8848-b0f6bb39894c",
   "metadata": {},
   "outputs": [],
   "source": [
    "penguins['weight_kg'] = np.round(penguins['body_mass_g']/ 100, 1)"
   ]
  },
  {
   "cell_type": "code",
   "execution_count": 7,
   "id": "bc1d7054-879a-49b9-a7f6-7716d3a2adb8",
   "metadata": {},
   "outputs": [
    {
     "data": {
      "text/plain": [
       "0      37.5\n",
       "1      38.0\n",
       "2      32.5\n",
       "3       NaN\n",
       "4      34.5\n",
       "       ... \n",
       "339    40.0\n",
       "340    34.0\n",
       "341    37.8\n",
       "342    41.0\n",
       "343    37.8\n",
       "Name: weight_kg, Length: 344, dtype: float64"
      ]
     },
     "execution_count": 7,
     "metadata": {},
     "output_type": "execute_result"
    }
   ],
   "source": [
    "penguins['weight_kg']"
   ]
  },
  {
   "cell_type": "markdown",
   "id": "8170fe82-a4b5-43a1-98d2-4caf094c40a3",
   "metadata": {},
   "source": [
    "<h1>DATA EXPLORATION</h1>"
   ]
  },
  {
   "cell_type": "code",
   "execution_count": null,
   "id": "c22db74f-7285-44a2-b42a-6f4645511111",
   "metadata": {},
   "outputs": [],
   "source": [
    "penguins['species'].value_counts()"
   ]
  },
  {
   "cell_type": "code",
   "execution_count": null,
   "id": "c65985f4-8e0a-4521-b52d-07edb7c2042d",
   "metadata": {},
   "outputs": [],
   "source": [
    "penguins['island'].value_counts()"
   ]
  },
  {
   "cell_type": "markdown",
   "id": "2039ae0f-a105-4cf9-aa69-43b3e8c7bd77",
   "metadata": {},
   "source": [
    "<h1>DOES THE ADELIE PENGUIN LIVE EXCLUSIVELY ON AND ISLAND"
   ]
  },
  {
   "cell_type": "code",
   "execution_count": null,
   "id": "26cfd71a-7017-4f28-a112-5b3e77dabd03",
   "metadata": {},
   "outputs": [],
   "source": [
    "penguins['species'] == 'Adelie'"
   ]
  },
  {
   "cell_type": "code",
   "execution_count": null,
   "id": "5320e18d-881f-4ea4-b416-9ebae0ad9886",
   "metadata": {},
   "outputs": [],
   "source": [
    "penguins[penguins['species'] == 'Adelie']\n",
    "penguins[penguins['island'] == 'Biscoe']"
   ]
  },
  {
   "cell_type": "markdown",
   "id": "877d2645-2033-4087-bb49-8ebdb7a49d78",
   "metadata": {},
   "source": [
    "<h1>ADELIE,GENTOO, and, CHINSTRAP in all ISLAND"
   ]
  },
  {
   "cell_type": "code",
   "execution_count": null,
   "id": "34d2e42b",
   "metadata": {},
   "outputs": [],
   "source": [
    "penguins[(penguins['species'] == 'Adelie') & (penguins['island'] == 'Biscoe')].info()\n",
    "penguins[(penguins['species'] == 'Adelie') & (penguins['island'] == 'Dream')].info()\n",
    "penguins[(penguins['species'] == 'Adelie') & (penguins['island'] == 'Torgersen')].info()"
   ]
  },
  {
   "cell_type": "code",
   "execution_count": null,
   "id": "a819667a-830e-42b4-a870-ffaaeb08f1db",
   "metadata": {},
   "outputs": [],
   "source": [
    "penguins[(penguins['species'] == 'Gentoo') & (penguins['island'] == 'Biscoe')].info()\n",
    "penguins[(penguins['species'] == 'Gentoo') & (penguins['island'] == 'Dream')].info()\n",
    "penguins[(penguins['species'] == 'Gentoo') & (penguins['island'] == 'Torgersen')].info()"
   ]
  },
  {
   "cell_type": "code",
   "execution_count": null,
   "id": "a811206f-439d-4d9f-9ccf-7b9e9ef651ea",
   "metadata": {},
   "outputs": [],
   "source": [
    "penguins[(penguins['species'] == 'Chinstrap') & (penguins['island'] == 'Biscoe')].info()\n",
    "penguins[(penguins['species'] == 'Chinstrap') & (penguins['island'] == 'Dream')].info()\n",
    "penguins[(penguins['species'] == 'Chinstrap') & (penguins['island'] == 'Torgersen')].info()"
   ]
  },
  {
   "cell_type": "markdown",
   "id": "4ccbc5fb-758a-4a60-8d40-3c002ea5d6a9",
   "metadata": {},
   "source": [
    "<h1>Gentoo Species"
   ]
  },
  {
   "cell_type": "code",
   "execution_count": null,
   "id": "a1ee2452-eb5a-4575-bb0b-e9bb89a0f05f",
   "metadata": {},
   "outputs": [],
   "source": [
    "penguins[(penguins['species'] == 'Gentoo') & (penguins ['island'] == 'Torgersen')].count()"
   ]
  },
  {
   "cell_type": "code",
   "execution_count": null,
   "id": "5186e41f-092d-4cfe-b44c-75db4130aae0",
   "metadata": {},
   "outputs": [],
   "source": [
    "gentoo_df = penguins[(penguins['species'] == 'Gentoo') & (penguins ['island'] == 'Biscoe')].count()\n",
    "gentoo_df['weight_kg'].mean()"
   ]
  },
  {
   "cell_type": "code",
   "execution_count": null,
   "id": "576a8b17-3ff7-47b3-b492-0e4832e8ff15",
   "metadata": {},
   "outputs": [],
   "source": [
    "np.round(gentoo_df['weight_kg'].mean(), 1)"
   ]
  },
  {
   "cell_type": "code",
   "execution_count": null,
   "id": "958f26d3-c49d-4c92-9aad-0509f554968f",
   "metadata": {},
   "outputs": [],
   "source": [
    "penguins[(penguins['species'] == 'Adelie') & (penguins ['island'] == 'Torgersen')].count()"
   ]
  },
  {
   "cell_type": "code",
   "execution_count": null,
   "id": "0534d537-79b2-46a8-a176-964e29e59d0a",
   "metadata": {},
   "outputs": [],
   "source": [
    "penguins[(penguins['species'] == 'Adelie') & (penguins ['island'] == 'Torgersen')].count()"
   ]
  },
  {
   "cell_type": "markdown",
   "id": "f2d4b81e-2bbe-44ea-b448-e39399d6e84e",
   "metadata": {},
   "source": [
    "<h1>Insight 1</h1>\n",
    "<h2>Residence of Adelie in every Island</h2>"
   ]
  },
  {
   "cell_type": "code",
   "execution_count": null,
   "id": "d8025b09-9291-4888-b5f3-146126b16749",
   "metadata": {},
   "outputs": [],
   "source": [
    "gent = penguins[penguins['species'] == 'Gentoo']\n",
    "gent['island'].value_counts()"
   ]
  },
  {
   "cell_type": "markdown",
   "id": "1dc6fc55",
   "metadata": {},
   "source": [
    "<h1>Insight 2<h1>"
   ]
  },
  {
   "cell_type": "code",
   "execution_count": null,
   "id": "22223439-9a77-434d-b739-491fd61d857a",
   "metadata": {},
   "outputs": [],
   "source": [
    "chins = penguins[penguins['species'] == 'Chinstrap']\n",
    "chins['island'].value_counts()"
   ]
  },
  {
   "cell_type": "code",
   "execution_count": null,
   "id": "6207e3a2-5ae8-4fa1-971d-85fa6882d0cd",
   "metadata": {},
   "outputs": [],
   "source": [
    "adel = penguins[penguins['species'] == 'Adelie']\n",
    "adel['island'].value_counts()"
   ]
  },
  {
   "cell_type": "code",
   "execution_count": null,
   "id": "f243e42e-3978-4222-a7c6-7be2992ef65f",
   "metadata": {},
   "outputs": [],
   "source": [
    "penguin_biscoe = penguins[(penguins['species'] == 'Adelie') & (df['island'] == 'Biscoe')]\n",
    "penguin_biscoe"
   ]
  },
  {
   "cell_type": "code",
   "execution_count": null,
   "id": "1f66a636",
   "metadata": {},
   "outputs": [],
   "source": []
  },
  {
   "cell_type": "code",
   "execution_count": null,
   "id": "43e0a2df",
   "metadata": {},
   "outputs": [],
   "source": []
  }
 ],
 "metadata": {
  "kernelspec": {
   "display_name": "Python 3 (ipykernel)",
   "language": "python",
   "name": "python3"
  },
  "language_info": {
   "codemirror_mode": {
    "name": "ipython",
    "version": 3
   },
   "file_extension": ".py",
   "mimetype": "text/x-python",
   "name": "python",
   "nbconvert_exporter": "python",
   "pygments_lexer": "ipython3",
   "version": "3.11.4"
  }
 },
 "nbformat": 4,
 "nbformat_minor": 5
}
